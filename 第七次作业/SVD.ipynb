{
 "cells": [
  {
   "cell_type": "code",
   "execution_count": 14,
   "metadata": {},
   "outputs": [
    {
     "name": "stdout",
     "output_type": "stream",
     "text": [
      "奇异值分解之后的对角矩阵\n",
      "[[143.77711852   0.           0.         ...   0.           0.\n",
      "    0.        ]\n",
      " [  0.          94.55432015   0.         ...   0.           0.\n",
      "    0.        ]\n",
      " [  0.           0.          80.29654019 ...   0.           0.\n",
      "    0.        ]\n",
      " ...\n",
      " [  0.           0.           0.         ...  14.5063684    0.\n",
      "    0.        ]\n",
      " [  0.           0.           0.         ...   0.          13.92835253\n",
      "    0.        ]\n",
      " [  0.           0.           0.         ...   0.           0.\n",
      "   14.09230649]]\n",
      "原矩阵维数： 297\n",
      "分解之后矩阵维数： 66\n"
     ]
    }
   ],
   "source": [
    "import pandas as pd\n",
    "import numpy as np\n",
    "\n",
    "#测试用数据集\n",
    "def loadExData():\n",
    "    return np.mat([[0, 0, 0, 0, 0, 4, 0, 0, 0, 0, 5],\n",
    "           [0, 0, 0, 3, 0, 4, 0, 0, 0, 0, 3],\n",
    "           [0, 0, 0, 0, 4, 0, 0, 1, 0, 4, 0],\n",
    "           [3, 3, 4, 0, 0, 0, 0, 2, 2, 0, 0],\n",
    "           [5, 4, 5, 0, 0, 0, 0, 5, 5, 0, 0],\n",
    "           [0, 0, 0, 0, 5, 0, 1, 0, 0, 5, 0],\n",
    "           [4, 3, 4, 0, 0, 0, 0, 5, 5, 0, 1],\n",
    "           [0, 0, 0, 4, 0, 4, 0, 0, 0, 0, 4],\n",
    "           [0, 0, 0, 2, 0, 2, 5, 0, 0, 1, 2],\n",
    "           [0, 0, 0, 0, 5, 0, 0, 0, 0, 4, 0],\n",
    "           [1, 0, 0, 0, 0, 0, 0, 1, 2, 0, 0]])\n",
    "\n",
    "def loadData():\n",
    "    attribute = pd.read_csv('./code/attribute.data', header=None, names=['A', 'B', 'C', 'D', 'E']).reset_index(drop=True)\n",
    "    xKey = attribute['B'].tolist()\n",
    "    #xKey.sort()\n",
    "    data = pd.read_csv('./code/anonymous-msweb.data',header=None,names=['A','B','C']).reset_index(drop=True)\n",
    "    caseLineList = data[data['A']=='C'].index.tolist()\n",
    "    n = max(xKey)-min(xKey)\n",
    "    m = len(caseLineList)\n",
    "    dataMatrix = np.zeros((m,n),dtype=int)\n",
    "    for i in range(1, m):\n",
    "        #caesNum = caseLineList[i]\n",
    "        cStartPoint = caseLineList[i-1]\n",
    "        cStopPoint = caseLineList[i]\n",
    "        vPointList = data.iloc[cStartPoint+1 : cStopPoint]['B'].tolist()\n",
    "        matrixRow = data.iloc[cStartPoint]['B'] - 10001\n",
    "        for j in vPointList:\n",
    "            dataMatrix[matrixRow][j - 1000] = 1\n",
    "    return dataMatrix\n",
    "\n",
    "def compuDiagMatrix(dataMatrix):\n",
    "    tempMatrix = np.dot(dataMatrix.T, dataMatrix)\n",
    "    eigenvalues, featureVector = np.linalg.eig(tempMatrix)\n",
    "    totalSum = sum( eigenvalues )\n",
    "    partSum = 0\n",
    "    i = 0\n",
    "    diagList = []\n",
    "    while(partSum < totalSum*0.9):\n",
    "        diagList.append(np.sqrt(eigenvalues[i]))\n",
    "        partSum += eigenvalues[i]\n",
    "        i = i + 1\n",
    "    return np.diag(diagList), i\n",
    "\n",
    "\n",
    "\n",
    "if __name__ == '__main__':\n",
    "    dataMatrix = loadData()\n",
    "    #dataMatrix = loadExData()\n",
    "    resMatrix, num = compuDiagMatrix(dataMatrix)\n",
    "    print(\"奇异值分解之后的对角矩阵\")\n",
    "    print(resMatrix)\n",
    "    print(\"原矩阵维数：\",dataMatrix.shape[1])\n",
    "    print(\"分解之后矩阵维数：\",resMatrix.shape[1])\n",
    "    #print('Well done!')"
   ]
  }
 ],
 "metadata": {
  "kernelspec": {
   "display_name": "Python 3",
   "language": "python",
   "name": "python3"
  },
  "language_info": {
   "codemirror_mode": {
    "name": "ipython",
    "version": 3
   },
   "file_extension": ".py",
   "mimetype": "text/x-python",
   "name": "python",
   "nbconvert_exporter": "python",
   "pygments_lexer": "ipython3",
   "version": "3.6.6"
  }
 },
 "nbformat": 4,
 "nbformat_minor": 2
}
