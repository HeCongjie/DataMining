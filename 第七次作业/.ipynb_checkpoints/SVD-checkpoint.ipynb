{
 "cells": [
  {
   "cell_type": "code",
   "execution_count": 13,
   "metadata": {},
   "outputs": [
    {
     "ename": "ValueError",
     "evalue": "operands could not be broadcast together with shapes (297,32711) (32711,297) ",
     "output_type": "error",
     "traceback": [
      "\u001b[0;31m---------------------------------------------------------------------------\u001b[0m",
      "\u001b[0;31mValueError\u001b[0m                                Traceback (most recent call last)",
      "\u001b[0;32m<ipython-input-13-dded77a15e23>\u001b[0m in \u001b[0;36m<module>\u001b[0;34m\u001b[0m\n\u001b[1;32m     53\u001b[0m     \u001b[0mdataMatrix\u001b[0m \u001b[0;34m=\u001b[0m \u001b[0mloadData\u001b[0m\u001b[0;34m(\u001b[0m\u001b[0;34m)\u001b[0m\u001b[0;34m\u001b[0m\u001b[0m\n\u001b[1;32m     54\u001b[0m     \u001b[0;31m#dataMatrix = loadExData()\u001b[0m\u001b[0;34m\u001b[0m\u001b[0;34m\u001b[0m\u001b[0m\n\u001b[0;32m---> 55\u001b[0;31m     \u001b[0mresMatrix\u001b[0m\u001b[0;34m,\u001b[0m \u001b[0mnum\u001b[0m \u001b[0;34m=\u001b[0m \u001b[0mcompuDiagMatrix\u001b[0m\u001b[0;34m(\u001b[0m\u001b[0mdataMatrix\u001b[0m\u001b[0;34m)\u001b[0m\u001b[0;34m\u001b[0m\u001b[0m\n\u001b[0m\u001b[1;32m     56\u001b[0m     \u001b[0mprint\u001b[0m\u001b[0;34m(\u001b[0m\u001b[0;34m\"奇异值分解之后的对角矩阵\"\u001b[0m\u001b[0;34m)\u001b[0m\u001b[0;34m\u001b[0m\u001b[0m\n\u001b[1;32m     57\u001b[0m     \u001b[0mprint\u001b[0m\u001b[0;34m(\u001b[0m\u001b[0mresMatrix\u001b[0m\u001b[0;34m)\u001b[0m\u001b[0;34m\u001b[0m\u001b[0m\n",
      "\u001b[0;32m<ipython-input-13-dded77a15e23>\u001b[0m in \u001b[0;36mcompuDiagMatrix\u001b[0;34m(dataMatrix)\u001b[0m\n\u001b[1;32m     36\u001b[0m \u001b[0;34m\u001b[0m\u001b[0m\n\u001b[1;32m     37\u001b[0m \u001b[0;32mdef\u001b[0m \u001b[0mcompuDiagMatrix\u001b[0m\u001b[0;34m(\u001b[0m\u001b[0mdataMatrix\u001b[0m\u001b[0;34m)\u001b[0m\u001b[0;34m:\u001b[0m\u001b[0;34m\u001b[0m\u001b[0m\n\u001b[0;32m---> 38\u001b[0;31m     \u001b[0mtempMatrix\u001b[0m \u001b[0;34m=\u001b[0m \u001b[0mdataMatrix\u001b[0m\u001b[0;34m.\u001b[0m\u001b[0mT\u001b[0m \u001b[0;34m*\u001b[0m \u001b[0mdataMatrix\u001b[0m\u001b[0;34m\u001b[0m\u001b[0m\n\u001b[0m\u001b[1;32m     39\u001b[0m     \u001b[0meigenvalues\u001b[0m\u001b[0;34m,\u001b[0m \u001b[0mfeatureVector\u001b[0m \u001b[0;34m=\u001b[0m \u001b[0mnp\u001b[0m\u001b[0;34m.\u001b[0m\u001b[0mlinalg\u001b[0m\u001b[0;34m.\u001b[0m\u001b[0meig\u001b[0m\u001b[0;34m(\u001b[0m\u001b[0mtempMatrix\u001b[0m\u001b[0;34m)\u001b[0m\u001b[0;34m\u001b[0m\u001b[0m\n\u001b[1;32m     40\u001b[0m     \u001b[0mtotalSum\u001b[0m \u001b[0;34m=\u001b[0m \u001b[0msum\u001b[0m\u001b[0;34m(\u001b[0m \u001b[0meigenvalues\u001b[0m \u001b[0;34m)\u001b[0m\u001b[0;34m\u001b[0m\u001b[0m\n",
      "\u001b[0;31mValueError\u001b[0m: operands could not be broadcast together with shapes (297,32711) (32711,297) "
     ]
    }
   ],
   "source": [
    "import pandas as pd\n",
    "import numpy as np\n",
    "\n",
    "#测试用数据集\n",
    "def loadExData():\n",
    "    return np.mat([[0, 0, 0, 0, 0, 4, 0, 0, 0, 0, 5],\n",
    "           [0, 0, 0, 3, 0, 4, 0, 0, 0, 0, 3],\n",
    "           [0, 0, 0, 0, 4, 0, 0, 1, 0, 4, 0],\n",
    "           [3, 3, 4, 0, 0, 0, 0, 2, 2, 0, 0],\n",
    "           [5, 4, 5, 0, 0, 0, 0, 5, 5, 0, 0],\n",
    "           [0, 0, 0, 0, 5, 0, 1, 0, 0, 5, 0],\n",
    "           [4, 3, 4, 0, 0, 0, 0, 5, 5, 0, 1],\n",
    "           [0, 0, 0, 4, 0, 4, 0, 0, 0, 0, 4],\n",
    "           [0, 0, 0, 2, 0, 2, 5, 0, 0, 1, 2],\n",
    "           [0, 0, 0, 0, 5, 0, 0, 0, 0, 4, 0],\n",
    "           [1, 0, 0, 0, 0, 0, 0, 1, 2, 0, 0]])\n",
    "\n",
    "def loadData():\n",
    "    attribute = pd.read_csv('./code/attribute.data', header=None, names=['A', 'B', 'C', 'D', 'E']).reset_index(drop=True)\n",
    "    xKey = attribute['B'].tolist()\n",
    "    #xKey.sort()\n",
    "    data = pd.read_csv('./code/anonymous-msweb.data',header=None,names=['A','B','C']).reset_index(drop=True)\n",
    "    caseLineList = data[data['A']=='C'].index.tolist()\n",
    "    n = max(xKey)-min(xKey)\n",
    "    m = len(caseLineList)\n",
    "    dataMatrix = np.zeros((m,n),dtype=int)\n",
    "    for i in range(1, m):\n",
    "        #caesNum = caseLineList[i]\n",
    "        cStartPoint = caseLineList[i-1]\n",
    "        cStopPoint = caseLineList[i]\n",
    "        vPointList = data.iloc[cStartPoint+1 : cStopPoint]['B'].tolist()\n",
    "        matrixRow = data.iloc[cStartPoint]['B'] - 10001\n",
    "        for j in vPointList:\n",
    "            dataMatrix[matrixRow][j - 1000] = 1\n",
    "    return dataMatrix\n",
    "\n",
    "def compuDiagMatrix(dataMatrix):\n",
    "    tempMatrix = np.dot(dataMatrix.T, dataMatrix)\n",
    "    eigenvalues, featureVector = np.linalg.eig(tempMatrix)\n",
    "    totalSum = sum( eigenvalues )\n",
    "    partSum = 0\n",
    "    i = 0\n",
    "    diagList = []\n",
    "    while(partSum < totalSum*0.9):\n",
    "        diagList.append(np.sqrt(eigenvalues[i]))\n",
    "        partSum += eigenvalues[i]\n",
    "        i = i + 1\n",
    "    return np.diag(diagList), i\n",
    "\n",
    "\n",
    "\n",
    "if __name__ == '__main__':\n",
    "    dataMatrix = loadData()\n",
    "    #dataMatrix = loadExData()\n",
    "    resMatrix, num = compuDiagMatrix(dataMatrix)\n",
    "    print(\"奇异值分解之后的对角矩阵\")\n",
    "    print(resMatrix)\n",
    "    print(\"原矩阵维数：\",dataMatrix.shape[1])\n",
    "    print(\"分解之后矩阵维数：\",resMatrix.shape[1])\n",
    "    #print('Well done!')"
   ]
  },
  {
   "cell_type": "code",
   "execution_count": 12,
   "metadata": {},
   "outputs": [
    {
     "data": {
      "text/plain": [
       "'/Users/world/课程资料/数据分析工具实践/第七次作业'"
      ]
     },
     "execution_count": 12,
     "metadata": {},
     "output_type": "execute_result"
    }
   ],
   "source": [
    "pwd"
   ]
  },
  {
   "cell_type": "code",
   "execution_count": null,
   "metadata": {},
   "outputs": [],
   "source": []
  }
 ],
 "metadata": {
  "kernelspec": {
   "display_name": "Python 3",
   "language": "python",
   "name": "python3"
  },
  "language_info": {
   "codemirror_mode": {
    "name": "ipython",
    "version": 3
   },
   "file_extension": ".py",
   "mimetype": "text/x-python",
   "name": "python",
   "nbconvert_exporter": "python",
   "pygments_lexer": "ipython3",
   "version": "3.6.6"
  }
 },
 "nbformat": 4,
 "nbformat_minor": 2
}
