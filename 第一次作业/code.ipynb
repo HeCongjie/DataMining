{
 "cells": [
  {
   "cell_type": "code",
   "execution_count": 3,
   "metadata": {},
   "outputs": [
    {
     "name": "stdout",
     "output_type": "stream",
     "text": [
      "Input string:google\n",
      "4\n"
     ]
    }
   ],
   "source": [
    "def find_len(str_arr, point):\n",
    "\tend = point+1\n",
    "\tstart = point\n",
    "\tmax_len = 0\n",
    "\twhile start>=0 and end<=len(str_arr)-1:\n",
    "\t\tif str_arr[start] == str_arr[end]:\n",
    "\t\t\tstart -=1\n",
    "\t\t\tend +=1\n",
    "\t\t\tmax_len +=2\n",
    "\t\telse:\n",
    "\t\t\treturn max_len\n",
    "\treturn max_len\n",
    "\n",
    "if __name__ == '__main__':\n",
    "\tstr_ = input(\"Input string:\")\n",
    "\tstr_arr = list(str_)\n",
    "\tsum_ = len(str_arr)\n",
    "\tlens = []\n",
    "\tfor x in range(sum_-1):\n",
    "\t\tlens.append(find_len(str_arr, x))\n",
    "\tprint(max(lens))"
   ]
  },
  {
   "cell_type": "code",
   "execution_count": null,
   "metadata": {},
   "outputs": [],
   "source": []
  }
 ],
 "metadata": {
  "kernelspec": {
   "display_name": "Python 3",
   "language": "python",
   "name": "python3"
  },
  "language_info": {
   "codemirror_mode": {
    "name": "ipython",
    "version": 3
   },
   "file_extension": ".py",
   "mimetype": "text/x-python",
   "name": "python",
   "nbconvert_exporter": "python",
   "pygments_lexer": "ipython3",
   "version": "3.6.6"
  }
 },
 "nbformat": 4,
 "nbformat_minor": 2
}
