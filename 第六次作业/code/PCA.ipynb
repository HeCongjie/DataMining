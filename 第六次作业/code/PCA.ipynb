{
 "cells": [
  {
   "cell_type": "code",
   "execution_count": 7,
   "metadata": {},
   "outputs": [
    {
     "name": "stdout",
     "output_type": "stream",
     "text": [
      "Well done\n"
     ]
    }
   ],
   "source": [
    "#!/usr/bin/env python\n",
    "\n",
    "import pandas as pd\n",
    "import numpy as np\n",
    "from sklearn.preprocessing import OneHotEncoder\n",
    "from sklearn.preprocessing import LabelEncoder\n",
    "import matplotlib.pyplot as plt\n",
    "import matplotlib\n",
    "matplotlib.rcParams['font.sans-serif'] = 'SimHei'\n",
    "%matplotlib inline\n",
    "def loadData():\n",
    "    data = pd.read_csv('../第6次作业/PCA数据集/imports-85.data', header=None)\n",
    "    data.columns = ['symboling','normalized-losses','make','fuel-type','aspiration','num-of-doors','body-style','drive-wheels','engine-location','wheel-base','length','width','height','curb-weight','engine-type','num-of-cylinders','engine-size','fuel-system','bore','stroke','compression-ratio','horsepower','peak-rpm','city-mpg','highway-mpg','price']\n",
    "    data = data.replace('?',np.nan).dropna().reset_index(drop=True)\n",
    "    return data\n",
    "\n",
    "def oneHotEncodeData(data):\n",
    "    labelEncodeColumns = ['make','body-style','aspiration','fuel-type','engine-location','drive-wheels','engine-type','fuel-system','num-of-doors','num-of-cylinders']\n",
    "    enc = OneHotEncoder(sparse = False)\n",
    "    for key in labelEncodeColumns:\n",
    "        temp = pd.DataFrame(enc.fit_transform(data[[key]]))\n",
    "        for i in range(temp.shape[1]):\n",
    "            temp.rename(columns={ temp.columns[i]: key + \"_\" + str(i) }, inplace=True)\n",
    "        data.drop([key], axis=1, inplace=True)\n",
    "        data = pd.concat([data,temp], axis=1)\n",
    "    return data.astype('double')\n",
    "\n",
    "def PAC(data):\n",
    "    matrixData = np.mat(data)\n",
    "    covData = np.cov(np.array(matrixData).T)\n",
    "    meanData = matrixData - matrixData.mean(axis=0)\n",
    "    w,v = np.linalg.eig(covData)\n",
    "    v = v.real\n",
    "    w = w.real\n",
    "    res = []\n",
    "    sumW = w.sum()\n",
    "    for i in range(20):\n",
    "        tem = 0\n",
    "        for j in range(i+1):\n",
    "            tem += w[j]\n",
    "        res.append(tem/sumW)\n",
    "    X = [i for i in range(1,21)]\n",
    "    #v_ = np.mat(v[:,0]).T\n",
    "    #y = meanData * v_\n",
    "\n",
    "\n",
    "if __name__ == '__main__':\n",
    "    data = loadData()\n",
    "    data = oneHotEncodeData(data)\n",
    "    #PAC(data)\n",
    "    print('Well done')\n"
   ]
  },
  {
   "cell_type": "code",
   "execution_count": 8,
   "metadata": {},
   "outputs": [
    {
     "data": {
      "image/png": "[encoded data removed]",
      "text/plain": [
       "<Figure size 432x288 with 1 Axes>"
      ]
     },
     "metadata": {
      "needs_background": "light"
     },
     "output_type": "display_data"
    }
   ],
   "source": [
    "def PAC(data):\n",
    "    matrixData = np.mat(data)\n",
    "    covData = np.cov(np.array(matrixData).T)\n",
    "    meanData = matrixData - matrixData.mean(axis=0)\n",
    "    w,v = np.linalg.eig(covData)\n",
    "    v = v.real\n",
    "    w = w.real\n",
    "    res = []\n",
    "    sumW = w.sum()\n",
    "    for i in range(20):\n",
    "        tem = 0\n",
    "        for j in range(i+1):\n",
    "            tem += w[j]\n",
    "        res.append(tem/sumW)\n",
    "    X = [i for i in range(1,21)]\n",
    "    \n",
    "    plt.figure()\n",
    "    plt.xlabel(u\"使用的主成分个数\")\n",
    "    plt.ylabel(u\"采集到的信息量占原始信息的比例\")\n",
    "    plt.plot(X, res)\n",
    "    plt.show()\n",
    "    \n",
    "PAC(data)"
   ]
  }
 ],
 "metadata": {
  "kernelspec": {
   "display_name": "Python 3",
   "language": "python",
   "name": "python3"
  },
  "language_info": {
   "codemirror_mode": {
    "name": "ipython",
    "version": 3
   },
   "file_extension": ".py",
   "mimetype": "text/x-python",
   "name": "python",
   "nbconvert_exporter": "python",
   "pygments_lexer": "ipython3",
   "version": "3.6.6"
  }
 },
 "nbformat": 4,
 "nbformat_minor": 2
}
